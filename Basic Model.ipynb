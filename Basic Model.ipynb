{
 "cells": [
  {
   "cell_type": "code",
   "execution_count": 17,
   "id": "d3acea1d",
   "metadata": {},
   "outputs": [],
   "source": [
    "import numpy as np\n",
    "import torch\n",
    "import torch.nn.functional as F\n",
    "import torch.nn as nn\n",
    "import torchvision\n",
    "import torchvision.transforms as transforms\n",
    "import matplotlib.pyplot as plt"
   ]
  },
  {
   "cell_type": "code",
   "execution_count": 18,
   "id": "b9677f2a",
   "metadata": {},
   "outputs": [],
   "source": [
    "batch_size = 64\n",
    "\n",
    "train_root = r'C:\\Users\\Dhruv\\Documents\\Github\\EE541\\EE541_project\\Preprocessing\\symlink_Data\\asl_alphabet_train'\n",
    "train_set = torchvision.datasets.ImageFolder(train_root, transform = transforms.Compose([transforms.ToTensor()]))\n",
    "train_loader = torch.utils.data.DataLoader(train_set, batch_size=batch_size, shuffle=True)"
   ]
  },
  {
   "cell_type": "code",
   "execution_count": 19,
   "id": "e052c0f6",
   "metadata": {},
   "outputs": [
    {
     "name": "stdout",
     "output_type": "stream",
     "text": [
      "Dataset ImageFolder\n",
      "    Number of datapoints: 78000\n",
      "    Root location: C:\\Users\\Dhruv\\Documents\\Github\\EE541\\EE541_project\\Preprocessing\\symlink_Data\\asl_alphabet_train\n",
      "    StandardTransform\n",
      "Transform: Compose(\n",
      "               ToTensor()\n",
      "           )\n"
     ]
    }
   ],
   "source": [
    "print(train_set)"
   ]
  },
  {
   "cell_type": "code",
   "execution_count": 20,
   "id": "5fa404a5",
   "metadata": {},
   "outputs": [
    {
     "data": {
      "text/plain": [
       "torch.Size([3, 200, 200])"
      ]
     },
     "execution_count": 20,
     "metadata": {},
     "output_type": "execute_result"
    }
   ],
   "source": [
    "train_set[1][0].shape"
   ]
  },
  {
   "cell_type": "code",
   "execution_count": 21,
   "id": "c238d4af",
   "metadata": {},
   "outputs": [
    {
     "name": "stdout",
     "output_type": "stream",
     "text": [
      "Class names = ['A', 'B', 'C', 'D', 'E', 'F', 'G', 'H', 'I', 'J', 'K', 'L', 'M', 'N', 'O', 'P', 'Q', 'R', 'S', 'T', 'U', 'V', 'W', 'X', 'Y', 'Z']\n"
     ]
    }
   ],
   "source": [
    "print(\"Class names = \" + str(train_set.classes))\n",
    "\n",
    "noc = 3\n",
    "image_size_x = 200\n",
    "image_size_y = 200"
   ]
  },
  {
   "cell_type": "code",
   "execution_count": 22,
   "id": "235873d6",
   "metadata": {},
   "outputs": [
    {
     "name": "stdout",
     "output_type": "stream",
     "text": [
      "Using cpu device\n"
     ]
    }
   ],
   "source": [
    "# Get cpu or gpu device for training.\n",
    "device = \"cuda\" if torch.cuda.is_available() else \"cpu\"\n",
    "print(\"Using {} device\".format(device))"
   ]
  },
  {
   "cell_type": "code",
   "execution_count": 23,
   "id": "b391767c",
   "metadata": {},
   "outputs": [
    {
     "name": "stdout",
     "output_type": "stream",
     "text": [
      "----------------------------------------------------------------\n",
      "        Layer (type)               Output Shape         Param #\n",
      "================================================================\n",
      "           Flatten-1               [-1, 120000]               0\n",
      "            Linear-2                  [-1, 128]      15,360,128\n",
      "              ReLU-3                  [-1, 128]               0\n",
      "            Linear-4                   [-1, 26]           3,354\n",
      "================================================================\n",
      "Total params: 15,363,482\n",
      "Trainable params: 15,363,482\n",
      "Non-trainable params: 0\n",
      "----------------------------------------------------------------\n",
      "Input size (MB): 0.46\n",
      "Forward/backward pass size (MB): 0.92\n",
      "Params size (MB): 58.61\n",
      "Estimated Total Size (MB): 59.98\n",
      "----------------------------------------------------------------\n"
     ]
    }
   ],
   "source": [
    "input_units = noc*image_size_x*image_size_y\n",
    "output_units = len(train_set.classes)\n",
    "\n",
    "model1 = torch.nn.Sequential(nn.Flatten(),\n",
    "                            nn.Linear(in_features=input_units,out_features=128),\n",
    "                            nn.ReLU(),\n",
    "                            nn.Linear(in_features=128,out_features=output_units))\n",
    "\n",
    "loss_func = nn.CrossEntropyLoss()\n",
    "optimizer = torch.optim.Adam(model1.parameters(),lr = 0.0001)\n",
    "\n",
    "\n",
    "from torchsummary import summary\n",
    "summary(model1,input_size=(1,3,200*200))"
   ]
  },
  {
   "cell_type": "code",
   "execution_count": 24,
   "id": "56ffdef2",
   "metadata": {},
   "outputs": [
    {
     "name": "stdout",
     "output_type": "stream",
     "text": [
      "Epoch = 0, train loss: 3.004816, train accuracy: 0.140625\n",
      "Epoch = 1, train loss: 2.656423, train accuracy: 0.15625\n",
      "Epoch = 2, train loss: 2.497186, train accuracy: 0.234375\n",
      "Epoch = 3, train loss: 2.578449, train accuracy: 0.21875\n",
      "Epoch = 4, train loss: 2.123648, train accuracy: 0.265625\n",
      "Epoch = 5, train loss: 2.038876, train accuracy: 0.25\n",
      "Epoch = 6, train loss: 2.142264, train accuracy: 0.203125\n",
      "Epoch = 7, train loss: 1.997578, train accuracy: 0.203125\n",
      "Epoch = 8, train loss: 2.171393, train accuracy: 0.328125\n",
      "Epoch = 9, train loss: 2.045383, train accuracy: 0.375\n",
      "Epoch = 10, train loss: 1.898989, train accuracy: 0.203125\n",
      "Epoch = 11, train loss: 1.843387, train accuracy: 0.265625\n",
      "Epoch = 12, train loss: 1.978200, train accuracy: 0.34375\n",
      "Epoch = 13, train loss: 1.949866, train accuracy: 0.34375\n"
     ]
    },
    {
     "ename": "KeyboardInterrupt",
     "evalue": "",
     "output_type": "error",
     "traceback": [
      "\u001b[1;31m---------------------------------------------------------------------------\u001b[0m",
      "\u001b[1;31mKeyboardInterrupt\u001b[0m                         Traceback (most recent call last)",
      "Input \u001b[1;32mIn [24]\u001b[0m, in \u001b[0;36m<cell line: 8>\u001b[1;34m()\u001b[0m\n\u001b[0;32m     13\u001b[0m y_pred \u001b[38;5;241m=\u001b[39m model1(x)\n\u001b[0;32m     14\u001b[0m loss \u001b[38;5;241m=\u001b[39m loss_func(y_pred, y)\n\u001b[1;32m---> 16\u001b[0m \u001b[43moptimizer\u001b[49m\u001b[38;5;241;43m.\u001b[39;49m\u001b[43mzero_grad\u001b[49m\u001b[43m(\u001b[49m\u001b[43m)\u001b[49m\n\u001b[0;32m     17\u001b[0m loss\u001b[38;5;241m.\u001b[39mbackward()\n\u001b[0;32m     18\u001b[0m optimizer\u001b[38;5;241m.\u001b[39mstep()\n",
      "File \u001b[1;32m~\\anaconda3\\envs\\EE541\\lib\\site-packages\\torch\\optim\\optimizer.py:222\u001b[0m, in \u001b[0;36mOptimizer.zero_grad\u001b[1;34m(self, set_to_none)\u001b[0m\n\u001b[0;32m    220\u001b[0m     p\u001b[38;5;241m.\u001b[39mgrad\u001b[38;5;241m.\u001b[39mrequires_grad_(\u001b[38;5;28;01mFalse\u001b[39;00m)\n\u001b[0;32m    221\u001b[0m \u001b[38;5;28;01mif\u001b[39;00m (\u001b[38;5;129;01mnot\u001b[39;00m foreach \u001b[38;5;129;01mor\u001b[39;00m p\u001b[38;5;241m.\u001b[39mgrad\u001b[38;5;241m.\u001b[39mis_sparse):\n\u001b[1;32m--> 222\u001b[0m     \u001b[43mp\u001b[49m\u001b[38;5;241;43m.\u001b[39;49m\u001b[43mgrad\u001b[49m\u001b[38;5;241;43m.\u001b[39;49m\u001b[43mzero_\u001b[49m\u001b[43m(\u001b[49m\u001b[43m)\u001b[49m\n\u001b[0;32m    223\u001b[0m \u001b[38;5;28;01melse\u001b[39;00m:\n\u001b[0;32m    224\u001b[0m     per_device_and_dtype_grads[p\u001b[38;5;241m.\u001b[39mgrad\u001b[38;5;241m.\u001b[39mdevice][p\u001b[38;5;241m.\u001b[39mgrad\u001b[38;5;241m.\u001b[39mdtype]\u001b[38;5;241m.\u001b[39mappend(p\u001b[38;5;241m.\u001b[39mgrad)\n",
      "\u001b[1;31mKeyboardInterrupt\u001b[0m: "
     ]
    }
   ],
   "source": [
    "epochs = 40\n",
    "size = len(train_loader.dataset)\n",
    "train_loss = []\n",
    "val_loss = []\n",
    "train_acc = []\n",
    "val_acc = []\n",
    "\n",
    "for epoch in range(epochs):\n",
    "    for batch, (x,y) in enumerate(train_loader):\n",
    "        model1.train()\n",
    "        \n",
    "        x, y = x.to(device), y.to(device)\n",
    "        y_pred = model1(x)\n",
    "        loss = loss_func(y_pred, y)\n",
    "        \n",
    "        optimizer.zero_grad()\n",
    "        loss.backward()\n",
    "        optimizer.step()\n",
    "        \n",
    "        if batch % 200 == 0:\n",
    "        \n",
    "            acc = (y_pred.argmax(1) == y).type(torch.float)\n",
    "            acc = torch.mean(acc)\n",
    "            \n",
    "            train_loss.append(loss.item())\n",
    "            train_acc.append(acc.item())\n",
    "\n",
    "    loss = loss.item()\n",
    "    print(f\"Epoch = {epoch}, train loss: {loss:>7f}, train accuracy: {acc}\")"
   ]
  },
  {
   "cell_type": "code",
   "execution_count": null,
   "id": "d9f3ae5d",
   "metadata": {},
   "outputs": [],
   "source": []
  }
 ],
 "metadata": {
  "kernelspec": {
   "display_name": "Python 3 (ipykernel)",
   "language": "python",
   "name": "python3"
  },
  "language_info": {
   "codemirror_mode": {
    "name": "ipython",
    "version": 3
   },
   "file_extension": ".py",
   "mimetype": "text/x-python",
   "name": "python",
   "nbconvert_exporter": "python",
   "pygments_lexer": "ipython3",
   "version": "3.8.13"
  }
 },
 "nbformat": 4,
 "nbformat_minor": 5
}
